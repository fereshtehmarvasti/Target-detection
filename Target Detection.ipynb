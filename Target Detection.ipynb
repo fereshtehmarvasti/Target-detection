{
 "cells": [
  {
   "cell_type": "code",
   "execution_count": null,
   "id": "39f3dfdd",
   "metadata": {},
   "outputs": [],
   "source": [
    "#pip install tensorflow\n",
    "#pip install opencv-python\n",
    "#pip3 install tensorflow == 2.0.0\n",
    "#pip install tfmongodb"
   ]
  },
  {
   "cell_type": "code",
   "execution_count": null,
   "id": "af1a261e",
   "metadata": {},
   "outputs": [],
   "source": [
    "import cv2\n",
    "import numpy as np\n",
    "import matplotlib.pyplot as plt"
   ]
  },
  {
   "cell_type": "code",
   "execution_count": null,
   "id": "fdd559ca",
   "metadata": {},
   "outputs": [],
   "source": [
    "# Read image\n",
    "interImage = cv2.imread('./....png')\n",
    "interImage = cv2.cvtColor(interImage,cv2.COLOR_BGR2RGB)\n",
    "# plt.imshow(interImage)"
   ]
  },
  {
   "cell_type": "code",
   "execution_count": null,
   "id": "497d9bb2",
   "metadata": {},
   "outputs": [],
   "source": [
    "# convert to gray\n",
    "interImageGray = cv2.cvtColor(interImage,cv2.COLOR_BGR2GRAY)\n",
    "# plt.imshow(interImageGray,cmap='gray')"
   ]
  },
  {
   "cell_type": "code",
   "execution_count": null,
   "id": "919d1df5",
   "metadata": {},
   "outputs": [],
   "source": [
    "# Read Main image\n",
    "mainImage = cv2.imread('./....png')\n",
    "mainImage = cv2.cvtColor(mainImage,cv2.COLOR_BGR2RGB)\n",
    "plt.imshow(mainImage)"
   ]
  },
  {
   "cell_type": "code",
   "execution_count": null,
   "id": "9427adfb",
   "metadata": {},
   "outputs": [],
   "source": [
    "# convert to gray\n",
    "mainImageGray = cv2.cvtColor(mainImage,cv2.COLOR_BGR2GRAY)\n",
    "plt.imshow(mainImageGray,cmap='gray')"
   ]
  },
  {
   "cell_type": "code",
   "execution_count": null,
   "id": "39a7cb6d",
   "metadata": {},
   "outputs": [],
   "source": [
    "# dilation\n",
    "dilation = cv2.cornerHarris(src = np.float32(interImageGray), blockSize = 3, ksize = 5, k = 0.06)\n",
    "dilation = cv2.dilate(dilation_SE,None)\n",
    "# Detect edge\n",
    "interImage[dilation_SE > 0.02 * dilation_SE.max()] = [255,0,0]\n",
    "plt.imshow(interImage) "
   ]
  },
  {
   "cell_type": "code",
   "execution_count": null,
   "id": "00feeb19",
   "metadata": {},
   "outputs": [],
   "source": [
    "# detect edge main image\n",
    "dilationMainImage = cv2.cornerHarris(src = np.float32(mainImageGray), blockSize = 2, ksize = 3, k = 0.04)\n",
    "dilationMainImage = cv2.dilate(dilationMainImage, None)\n",
    " mainImage[dilationMainImage > 0.01 * dilationMainImage.max()] = [255,0,0]\n",
    "#plt.imshow(mainImage) "
   ]
  },
  {
   "cell_type": "code",
   "execution_count": null,
   "id": "832fcc7e",
   "metadata": {},
   "outputs": [],
   "source": [
    "edge = cv2.goodFeaturesToTrack(interImageGray,255,0.05,25)"
   ]
  },
  {
   "cell_type": "code",
   "execution_count": null,
   "id": "5fa7a60b",
   "metadata": {},
   "outputs": [],
   "source": [
    "edge = np.int0(edge)\n",
    "\n",
    "for e in edge:\n",
    "  x,y = e.ravel()\n",
    "  cv2.circle(interImage,(x,y),8,(255,0,0),-1)\n",
    "plt.imshow(interImage)"
   ]
  },
  {
   "cell_type": "code",
   "execution_count": null,
   "id": "01839e60",
   "metadata": {},
   "outputs": [],
   "source": [
    "# Creating a dictionary to get edge\n",
    "edgeTrack = dict(maxCorners = 15,\n",
    "                 quality = 0.5,\n",
    "                 minDistance = 9,\n",
    "                 blockSize = 9)\n",
    "# set window \n",
    "SE = dict(winSize=(150 , 150),\n",
    "                 maxLevel=2)"
   ]
  },
  {
   "cell_type": "code",
   "execution_count": null,
   "id": "c2126b8a",
   "metadata": {},
   "outputs": [],
   "source": [
    "cap = cv2.VideoCapture(0)\n",
    "num, imageframe = cap.read()\n",
    "\n",
    "imageGray = cv2.cvtColor(imageframe,cv2.COLOR_BGR2GRAY)\n",
    "\n",
    "# number of detection points\n",
    "strElement = np.zeros_like(imageframe)\n",
    "\n",
    "edgePt = cv2.goodFeaturesToTrack(imageGray, mask = None, **edgeTrack)\n",
    "\n",
    "num, win = cap.read()\n",
    "winGray = cv2.cvtColor(win,cv2.COLOR_BGR2GRAY)\n",
    "\n",
    "points, status, err = cv2.calcOpticalFlowPyrLK(imageGray, winGray, edgePt, None, **SE)\n",
    "\n",
    "\n",
    "x_detect, y_detect = new.ravel()\n",
    "x_target, y_target = prev.ravel()\n",
    "\n",
    "strElement = cv2.line(mask,(x_detect,y_detect),(x_target,y_target),(255,0,255),8)\n",
    "# draing circle\n",
    "frame = cv2.circle(frame,(x_detect,y_detect),8,(0,0,255),-1)  \n",
    "  \n",
    "img = cv2.add(frame,strElement)\n",
    "k = cv2.waitKey(50) & 0xFFFF\n",
    "\n",
    "edgePt = img.reshape(1,-1,2) \n",
    "imageGray = winGray.copy()\n",
    "\n",
    "cv2.destroyAllWindows()\n",
    "cap.release()"
   ]
  }
 ],
 "metadata": {
  "kernelspec": {
   "display_name": "Python 3",
   "language": "python",
   "name": "python3"
  },
  "language_info": {
   "codemirror_mode": {
    "name": "ipython",
    "version": 3
   },
   "file_extension": ".py",
   "mimetype": "text/x-python",
   "name": "python",
   "nbconvert_exporter": "python",
   "pygments_lexer": "ipython3",
   "version": "3.8.8"
  }
 },
 "nbformat": 4,
 "nbformat_minor": 5
}
